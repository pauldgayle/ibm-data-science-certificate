{
 "cells": [
  {
   "cell_type": "markdown",
   "id": "256b2808-c04b-46d1-9597-52bdcc02bad6",
   "metadata": {},
   "source": [
    "# Data Science Tools and Ecosystem"
   ]
  },
  {
   "cell_type": "markdown",
   "id": "bc895f1a-e1bd-40db-bcf1-27ddba6344bf",
   "metadata": {},
   "source": [
    "## Paul Gayle"
   ]
  },
  {
   "cell_type": "markdown",
   "id": "1f356f38-a5f8-48ef-973d-d61b62c4b742",
   "metadata": {},
   "source": [
    "In this notebook, Data Science Tools and Ecosystem are summarized"
   ]
  },
  {
   "cell_type": "markdown",
   "id": "6769a0b4-5dfe-497b-b7e5-1263d136a535",
   "metadata": {},
   "source": [
    "__Objectives:__\n",
    "* Popular languages\n",
    "* Commonly used libraries\n",
    "* Data Science Tools\n",
    "* Simple arithmetic examples"
   ]
  },
  {
   "cell_type": "markdown",
   "id": "259eeb06-5315-4d75-8f56-99a99edf08ac",
   "metadata": {},
   "source": [
    "#### Some of the popular languages that Data Scientists use are:\n",
    "* R\n",
    "* Python\n",
    "* Java Script\n",
    "* C\n",
    "* SQL"
   ]
  },
  {
   "cell_type": "markdown",
   "id": "b52739e5-c033-49f9-847f-aeb72d5a80fb",
   "metadata": {},
   "source": [
    "#### Some of the commonly used libraries used by Data Scientists include:\n",
    "* Pandas\n",
    "* NumPy\n",
    "* Matplotlib\n",
    "* Seaborn\n",
    "* Sckit-learn\n",
    "* Keras"
   ]
  },
  {
   "cell_type": "markdown",
   "id": "3b76f77c-9cee-43d9-89f2-36030c89421e",
   "metadata": {},
   "source": [
    "| Data Science Tools |\n",
    "|----|\n",
    "| Jupyter Notebook |\n",
    "| R-Studio |\n",
    "| PyCharm |\n",
    "| Visual Studio Code |"
   ]
  },
  {
   "cell_type": "markdown",
   "id": "598dd2f0-f574-417e-b7a4-2b02d631c74e",
   "metadata": {},
   "source": [
    "### Below are a few examples of evaluating arithmetic expressions in Python"
   ]
  },
  {
   "cell_type": "code",
   "execution_count": 20,
   "id": "c7ce5e78-f0e5-41fc-8919-bc5c5f713b3e",
   "metadata": {},
   "outputs": [
    {
     "data": {
      "text/plain": [
       "17"
      ]
     },
     "execution_count": 20,
     "metadata": {},
     "output_type": "execute_result"
    }
   ],
   "source": [
    "(3*4)+5\n",
    "# This is a simple arithmetic expression to multiply then add integers"
   ]
  },
  {
   "cell_type": "code",
   "execution_count": 24,
   "id": "20dd2896-af97-4d98-8ebf-148f4b56767a",
   "metadata": {},
   "outputs": [
    {
     "name": "stdout",
     "output_type": "stream",
     "text": [
      "3.3333333333333335\n"
     ]
    }
   ],
   "source": [
    "minute = 200\n",
    "hour = minute / 60\n",
    "print(hour)\n",
    "# This will convert 200 minutes to hours by dividing by 60."
   ]
  },
  {
   "cell_type": "code",
   "execution_count": null,
   "id": "52bc21b2-2505-4ae4-b7a4-84da3376a643",
   "metadata": {},
   "outputs": [],
   "source": []
  }
 ],
 "metadata": {
  "kernelspec": {
   "display_name": "Python [conda env:base] *",
   "language": "python",
   "name": "conda-base-py"
  },
  "language_info": {
   "codemirror_mode": {
    "name": "ipython",
    "version": 3
   },
   "file_extension": ".py",
   "mimetype": "text/x-python",
   "name": "python",
   "nbconvert_exporter": "python",
   "pygments_lexer": "ipython3",
   "version": "3.12.7"
  }
 },
 "nbformat": 4,
 "nbformat_minor": 5
}
